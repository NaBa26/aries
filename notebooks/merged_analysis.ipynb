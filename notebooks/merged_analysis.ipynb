{
 "cells": [
  {
   "cell_type": "code",
   "execution_count": 79,
   "id": "cc6584a7-4afc-49b5-a408-e7963c161fd0",
   "metadata": {},
   "outputs": [],
   "source": [
    "import sys\n",
    "import os\n",
    "\n",
    "sys.path.append(os.path.abspath('../scripts'))"
   ]
  },
  {
   "cell_type": "code",
   "execution_count": 75,
   "id": "a95bdac5-fafd-41f7-8d0e-b36b067f593f",
   "metadata": {},
   "outputs": [],
   "source": [
    "import pandas as pd\n",
    "\n",
    "df_rtm = pd.read_csv('../data/Simulated_RTM_Logs.csv')\n",
    "df_ipdr = pd.read_csv('../data/Simulated_CDR_IPDR_Logs.csv')\n",
    "\n",
    "df_rtm['timestamp'] = pd.to_datetime(df_rtm['timestamp'])\n",
    "df_ipdr['timestamp'] = pd.to_datetime(df_ipdr['timestamp'])\n",
    "\n",
    "df_rtm['date'] = df_rtm['timestamp'].dt.date\n",
    "df_ipdr['date'] = df_ipdr['timestamp'].dt.date\n",
    "\n",
    "df_rtm['hour'] = df_rtm['timestamp'].dt.hour\n",
    "df_ipdr['hour'] = df_ipdr['timestamp'].dt.hour\n",
    "\n",
    "df_rtm['duration_sec'] = pd.to_numeric(df_rtm['duration_sec'], errors='coerce')\n",
    "df_ipdr['duration_sec'] = pd.to_numeric(df_ipdr['duration_sec'], errors='coerce')\n",
    "\n",
    "df_rtm['fraud_label'] = df_rtm['fraud_label'].fillna('Unknown')\n",
    "df_ipdr['fraud_label'] = df_ipdr['fraud_label'].fillna('Unknown')\n",
    "\n",
    "rtm_summary = df_rtm.groupby(['subscriber_id', 'date', 'hour']).agg(\n",
    "    app_duration=('duration_sec', 'sum'),\n",
    "    rtm_fraud_label=('fraud_label', lambda x: x.mode().iloc[0] if not x.mode().empty else None)\n",
    ").reset_index()\n",
    "\n",
    "ipdr_summary = df_ipdr.groupby(['subscriber_id', 'date', 'hour']).agg(\n",
    "    cdr_ipdr_duration=('duration_sec', 'sum'),\n",
    "    ipdr_fraud_label=('fraud_label', lambda x: x.mode().iloc[0] if not x.mode().empty else None)\n",
    ").reset_index()"
   ]
  },
  {
   "cell_type": "code",
   "execution_count": 80,
   "id": "75eeb990-7694-4357-bb8e-4e85d6714ad3",
   "metadata": {},
   "outputs": [],
   "source": [
    "# Fraud or not fraud\n",
    "\n",
    "ipdr_summary['is_fraud'] = ipdr_summary['ipdr_fraud_label'].apply(\n",
    "    lambda x: 'Fraud' if x != 'Benign' else 'Benign'\n",
    ")"
   ]
  },
  {
   "cell_type": "code",
   "execution_count": 81,
   "id": "66612cbf-559a-47bd-b53b-93ceae40ae0e",
   "metadata": {},
   "outputs": [
    {
     "data": {
      "text/html": [
       "<div>\n",
       "<style scoped>\n",
       "    .dataframe tbody tr th:only-of-type {\n",
       "        vertical-align: middle;\n",
       "    }\n",
       "\n",
       "    .dataframe tbody tr th {\n",
       "        vertical-align: top;\n",
       "    }\n",
       "\n",
       "    .dataframe thead th {\n",
       "        text-align: right;\n",
       "    }\n",
       "</style>\n",
       "<table border=\"1\" class=\"dataframe\">\n",
       "  <thead>\n",
       "    <tr style=\"text-align: right;\">\n",
       "      <th>fraud_label</th>\n",
       "      <th>Benign</th>\n",
       "      <th>Financial</th>\n",
       "      <th>Identity</th>\n",
       "      <th>Investment</th>\n",
       "      <th>Psychological</th>\n",
       "      <th>total</th>\n",
       "    </tr>\n",
       "    <tr>\n",
       "      <th>app</th>\n",
       "      <th></th>\n",
       "      <th></th>\n",
       "      <th></th>\n",
       "      <th></th>\n",
       "      <th></th>\n",
       "      <th></th>\n",
       "    </tr>\n",
       "  </thead>\n",
       "  <tbody>\n",
       "    <tr>\n",
       "      <th>Telegram</th>\n",
       "      <td>134</td>\n",
       "      <td>9</td>\n",
       "      <td>11</td>\n",
       "      <td>7</td>\n",
       "      <td>14</td>\n",
       "      <td>175</td>\n",
       "    </tr>\n",
       "    <tr>\n",
       "      <th>Signal</th>\n",
       "      <td>139</td>\n",
       "      <td>6</td>\n",
       "      <td>12</td>\n",
       "      <td>8</td>\n",
       "      <td>5</td>\n",
       "      <td>170</td>\n",
       "    </tr>\n",
       "    <tr>\n",
       "      <th>WhatsApp</th>\n",
       "      <td>135</td>\n",
       "      <td>11</td>\n",
       "      <td>10</td>\n",
       "      <td>8</td>\n",
       "      <td>4</td>\n",
       "      <td>168</td>\n",
       "    </tr>\n",
       "  </tbody>\n",
       "</table>\n",
       "</div>"
      ],
      "text/plain": [
       "fraud_label  Benign  Financial  Identity  Investment  Psychological  total\n",
       "app                                                                       \n",
       "Telegram        134          9        11           7             14    175\n",
       "Signal          139          6        12           8              5    170\n",
       "WhatsApp        135         11        10           8              4    168"
      ]
     },
     "execution_count": 81,
     "metadata": {},
     "output_type": "execute_result"
    }
   ],
   "source": [
    "# Count of fraud for each application\n",
    "\n",
    "app_fraud_counts = df_rtm.groupby(['app', 'fraud_label']).size().unstack(fill_value=0)\n",
    "app_fraud_counts['total'] = app_fraud_counts.sum(axis=1)\n",
    "app_fraud_counts = app_fraud_counts.sort_values(by='total', ascending=False)\n",
    "app_fraud_counts"
   ]
  },
  {
   "cell_type": "code",
   "execution_count": null,
   "id": "225ab621-8e77-4eb6-8293-a28a0e5f92db",
   "metadata": {},
   "outputs": [],
   "source": []
  }
 ],
 "metadata": {
  "kernelspec": {
   "display_name": "Python 3 (ipykernel)",
   "language": "python",
   "name": "python3"
  },
  "language_info": {
   "codemirror_mode": {
    "name": "ipython",
    "version": 3
   },
   "file_extension": ".py",
   "mimetype": "text/x-python",
   "name": "python",
   "nbconvert_exporter": "python",
   "pygments_lexer": "ipython3",
   "version": "3.12.9"
  }
 },
 "nbformat": 4,
 "nbformat_minor": 5
}
